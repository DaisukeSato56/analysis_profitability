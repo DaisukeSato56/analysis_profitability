{
 "cells": [
  {
   "cell_type": "code",
   "execution_count": 22,
   "metadata": {},
   "outputs": [],
   "source": [
    "import os\n",
    "import pandas as pd\n",
    "import numpy as np\n",
    "import matplotlib\n",
    "import matplotlib.pyplot as plt\n",
    "import statistics\n",
    "from scipy import stats\n",
    "import scipy\n",
    "import networkx as nx\n",
    "import random\n",
    "from statistics import mean\n",
    "import seaborn as sns"
   ]
  },
  {
   "cell_type": "code",
   "execution_count": 2,
   "metadata": {},
   "outputs": [],
   "source": [
    "DFAllFirms = pd.read_csv(\n",
    "    \"/Users/SatouDaisuke/Documents/gsais/dataAnalysis/data/KJDATA1.TXT\",\n",
    "    encoding='cp932')\n",
    "DFAllKyotoFirms = pd.read_excel(\n",
    "    \"/Users/SatouDaisuke/Documents/gsais/dataAnalysis/data/KJDATA_allKyotoCompanies.xlsx\",\n",
    "    sheet_name=\"original\")\n",
    "# DFAllTrade = pd.read_csv(\n",
    "#     \"/Users/SatouDaisuke/Documents/gsais/dataAnalysis/data/SKDATA.TXT\")\n",
    "DFTreeAllKyotofirms = pd.read_csv(\"../py/data/allKyotoFirms.tree\")\n",
    "modifiedDFAllTrade = pd.read_csv(\"../py/data/modifiedSKDATA.csv\")"
   ]
  },
  {
   "cell_type": "code",
   "execution_count": 3,
   "metadata": {},
   "outputs": [],
   "source": [
    "def bowtie_analysis(G):\n",
    "    \"\"\"\n",
    "    to separate given graph with scc in out tube tendrils other\n",
    "    \"\"\"\n",
    "    scc = max(nx.strongly_connected_components(G), key=len)\n",
    "    scc = set(scc)\n",
    "    nodes = set(G.nodes())\n",
    "    scc_node = random.sample(scc, 1)[0]\n",
    "    sp = dict(nx.all_pairs_shortest_path_length(G))\n",
    "    inc = set()\n",
    "    for n in nodes:\n",
    "        if scc_node in sp[n]:\n",
    "            inc.add(n)\n",
    "    inc -= scc\n",
    "\n",
    "    outc = set()\n",
    "    for n in scc:\n",
    "        outc |= set(sp[n].keys())\n",
    "    outc -= scc\n",
    "\n",
    "    tube = set()\n",
    "    out_tendril = set()\n",
    "    in_tendril = set()\n",
    "    other = set()\n",
    "\n",
    "    remainder = set(G.nodes()) - scc - inc - outc\n",
    "    inc_out = set()\n",
    "    for n in inc:\n",
    "        inc_out |= set(sp[n].keys())\n",
    "    inc_out = inc_out - inc - scc - outc\n",
    "\n",
    "    for n in remainder:\n",
    "        if n in inc_out:\n",
    "            if set(sp[n].keys()) & outc:\n",
    "                tube.add(n)\n",
    "            else:\n",
    "                in_tendril.add(n)\n",
    "        elif set(sp[n].keys()) & outc:\n",
    "            out_tendril.add(n)\n",
    "        else:\n",
    "            other.add(n)\n",
    "\n",
    "    print(\"SCCの大きさは\", len(scc))\n",
    "    print(\"INの大きさは\", len(inc))\n",
    "    print(\"OUTの大きさは\", len(outc))\n",
    "    print(\"TUBEの大きさは\", len(tube))\n",
    "    print(\"IN_TENDRILSの大きさは\", len(in_tendril))\n",
    "    print(\"OUT_TENDRILSの大きさは\", len(out_tendril))\n",
    "    print(\"OTHERの大きさは\", len(other))\n",
    "\n",
    "    return scc, inc, outc, tube, in_tendril, out_tendril, other"
   ]
  },
  {
   "cell_type": "code",
   "execution_count": 5,
   "metadata": {},
   "outputs": [],
   "source": [
    "def make_tradedata(firms):\n",
    "    \"\"\"\n",
    "    企業データを持ったdfを元に、dfに存在する全ての企業が関係する取引を返すメソッド\n",
    "\n",
    "    args: firms DF\n",
    "\n",
    "    return DF => 取引関係を持つ企業を返す\n",
    "    \"\"\"\n",
    "    a = modifiedDFAllTrade[modifiedDFAllTrade[\"supplier\"].isin(firms[\"企業コード\"])]\n",
    "    b = modifiedDFAllTrade[modifiedDFAllTrade[\"customer\"].isin(firms[\"企業コード\"])]\n",
    "\n",
    "    c = pd.concat([a, b])\n",
    "\n",
    "    d = c[~c.duplicated()]\n",
    "\n",
    "    print(\"取引の数は\", len(d))\n",
    "\n",
    "    return d[[\"supplier\", \"customer\"]]"
   ]
  },
  {
   "cell_type": "code",
   "execution_count": 7,
   "metadata": {},
   "outputs": [],
   "source": [
    "def make_tuple_from_df(df):\n",
    "    \"\"\"\n",
    "    dataframeの行からtupleを生み出す\n",
    "    \"\"\"\n",
    "    tuples = [tuple(x) for x in df.values]\n",
    "    print(len(tuples))\n",
    "    return tuples"
   ]
  },
  {
   "cell_type": "code",
   "execution_count": 9,
   "metadata": {},
   "outputs": [],
   "source": [
    "def culclulate_graph_feature(G):\n",
    "    print(\"平均最短経路長は\", nx.average_shortest_path_length(G))\n",
    "    print(\"クラスタリング係数は\", nx.average_clustering(G))\n",
    "    print(\"assortativityは\", nx.degree_assortativity_coefficient(G))\n",
    "    print(\"densityは\", nx.density(G))"
   ]
  },
  {
   "cell_type": "code",
   "execution_count": 13,
   "metadata": {},
   "outputs": [],
   "source": [
    "def get_graph(module):\n",
    "    infofirms = get_companyInfo_from_module(module)\n",
    "    tradedata = make_tradedata_for_community(infofirms)\n",
    "    links = [tuple(x) for x in tradedata.values]\n",
    "\n",
    "    D = nx.DiGraph()\n",
    "    D.add_edges_from(links)\n",
    "    print(\"ノードの数=\", D.number_of_nodes(), \"\\n リンクの数=\", D.number_of_edges())\n",
    "\n",
    "    return D"
   ]
  },
  {
   "cell_type": "code",
   "execution_count": 14,
   "metadata": {},
   "outputs": [],
   "source": [
    "def get_companyInfo_from_module(module):\n",
    "    cols = DFAllKyotoFirms.columns\n",
    "    infofirms = pd.DataFrame(index=[], columns=cols)\n",
    "\n",
    "    df = DFTreeAllKyotofirms[DFTreeAllKyotofirms[\"module\"].str.startswith(\n",
    "        module)]\n",
    "    print(\"{}moduleの長さは{}\".format(module, len(df)))\n",
    "\n",
    "    for code in df[\"company_code\"]:\n",
    "        info = find_company_in_all(code)\n",
    "        infofirms = infofirms.append(info)\n",
    "\n",
    "    return infofirms"
   ]
  },
  {
   "cell_type": "code",
   "execution_count": 15,
   "metadata": {},
   "outputs": [],
   "source": [
    "def make_tradedata_for_community(infofirms):\n",
    "    \"\"\"\n",
    "    企業データを持ったdfを元に、dfに存在する全ての企業同士の取引を返すメソッド\n",
    "\n",
    "    args: infofirms DF\n",
    "\n",
    "    return DF => 取引関係を持つ企業を返す\n",
    "    \"\"\"\n",
    "    tradeData = modifiedDFAllTrade[modifiedDFAllTrade[\"supplier\"].isin(\n",
    "        infofirms[\"企業コード\"]) & modifiedDFAllTrade[\"customer\"].isin(infofirms[\"企業コード\"])]\n",
    "\n",
    "    # ノードたちをエクセル表に出力\n",
    "    firms = list(\n",
    "        set(list(tradeData[\"supplier\"]) + list(tradeData[\"customer\"])))\n",
    "    print(\"node数: {}\".format(len(firms)))\n",
    "    print(\"抽出した取引の数: {}\".format(len(tradeData)))\n",
    "\n",
    "    print(\"取引データの中で重複しているデータの数は(True=重複): {}\".format(\n",
    "        dict(tradeData.duplicated().value_counts())))\n",
    "\n",
    "    return tradeData[[\"supplier\", \"customer\"]]"
   ]
  },
  {
   "cell_type": "code",
   "execution_count": 17,
   "metadata": {},
   "outputs": [],
   "source": [
    "def find_company_in_all(company_code):\n",
    "    df = DFAllFirms[DFAllFirms[\"企業コード\"] == company_code]\n",
    "    return df"
   ]
  },
  {
   "cell_type": "code",
   "execution_count": 8,
   "metadata": {},
   "outputs": [
    {
     "name": "stdout",
     "output_type": "stream",
     "text": [
      "取引の数は 153684\n",
      "153684\n",
      "SCCの大きさは 13206\n",
      "INの大きさは 23643\n",
      "OUTの大きさは 30950\n",
      "TUBEの大きさは 290\n",
      "IN_TENDRILSの大きさは 2705\n",
      "OUT_TENDRILSの大きさは 5105\n",
      "OTHERの大きさは 3779\n"
     ]
    }
   ],
   "source": [
    "tradeData = make_tradedata(DFAllKyotoFirms)\n",
    "links = make_tuple_from_df(tradeData)\n",
    "kG = nx.DiGraph()\n",
    "kG.add_edges_from(links)\n",
    "kscc, kinc, koutc, ktube, kin_tendril, kout_tendril, kother = bowtie_analysis(kG)"
   ]
  },
  {
   "cell_type": "code",
   "execution_count": 18,
   "metadata": {},
   "outputs": [
    {
     "name": "stdout",
     "output_type": "stream",
     "text": [
      "========================\n",
      "\n",
      "任天堂のコミュニティの特徴\n",
      "14:1:moduleの長さは212\n"
     ]
    },
    {
     "name": "stderr",
     "output_type": "stream",
     "text": [
      "//anaconda3/lib/python3.7/site-packages/pandas/core/frame.py:6692: FutureWarning: Sorting because non-concatenation axis is not aligned. A future version\n",
      "of pandas will change to not sort by default.\n",
      "\n",
      "To accept the future behavior, pass 'sort=False'.\n",
      "\n",
      "To retain the current behavior and silence the warning, pass 'sort=True'.\n",
      "\n",
      "  sort=sort)\n"
     ]
    },
    {
     "name": "stdout",
     "output_type": "stream",
     "text": [
      "node数: 212\n",
      "抽出した取引の数: 325\n",
      "取引データの中で重複しているデータの数は(True=重複): {False: 325}\n",
      "ノードの数= 212 \n",
      " リンクの数= 308\n",
      "平均最短経路長は 0.5638021997675042\n",
      "クラスタリング係数は 0.19064291443673154\n",
      "assortativityは -0.5789546170623502\n",
      "densityは 0.006885451131181258\n",
      "========================\n",
      "\n",
      "日本電産のコミュニティの特徴\n",
      "2:18:moduleの長さは132\n",
      "node数: 132\n",
      "抽出した取引の数: 150\n",
      "取引データの中で重複しているデータの数は(True=重複): {False: 150}\n",
      "ノードの数= 132 \n",
      " リンクの数= 146\n",
      "平均最短経路長は 0.30407124681933845\n",
      "クラスタリング係数は 0.06755749547641772\n",
      "assortativityは -0.6769622529961249\n",
      "densityは 0.00844321073328707\n",
      "========================\n",
      "\n",
      "西陣織のコミュニティの特徴\n",
      "4:1:moduleの長さは174\n",
      "node数: 174\n",
      "抽出した取引の数: 416\n",
      "取引データの中で重複しているデータの数は(True=重複): {False: 416}\n",
      "ノードの数= 174 \n",
      " リンクの数= 390\n",
      "平均最短経路長は 0.25200983323367215\n",
      "クラスタリング係数は 0.006912732673381761\n",
      "assortativityは -0.36881705303438495\n",
      "densityは 0.01295594977077935\n",
      "========================\n",
      "\n",
      "京友禅のコミュニティの特徴\n",
      "4:6:moduleの長さは94\n",
      "node数: 94\n",
      "抽出した取引の数: 186\n",
      "取引データの中で重複しているデータの数は(True=重複): {False: 186}\n",
      "ノードの数= 94 \n",
      " リンクの数= 185\n",
      "平均最短経路長は 1.3331045527339282\n",
      "クラスタリング係数は 0.06073162235589175\n",
      "assortativityは -0.5925931870600967\n",
      "densityは 0.021162205444978266\n",
      "========================\n",
      "\n",
      "京人形のコミュニティの特徴\n",
      "4:25:moduleの長さは71\n",
      "node数: 71\n",
      "抽出した取引の数: 161\n",
      "取引データの中で重複しているデータの数は(True=重複): {False: 161}\n",
      "ノードの数= 71 \n",
      " リンクの数= 144\n",
      "平均最短経路長は 0.35030181086519113\n",
      "クラスタリング係数は 0.09510598947218664\n",
      "assortativityは -0.4485301437324281\n",
      "densityは 0.0289738430583501\n",
      "========================\n",
      "\n",
      "堀場製作所のコミュニティの特徴\n",
      "2:9:moduleの長さは166\n",
      "node数: 166\n",
      "抽出した取引の数: 221\n",
      "取引データの中で重複しているデータの数は(True=重複): {False: 221}\n",
      "ノードの数= 166 \n",
      " リンクの数= 208\n",
      "平均最短経路長は 0.6852500912741877\n",
      "クラスタリング係数は 0.0986348400942739\n",
      "assortativityは -0.5929686603985186\n",
      "densityは 0.007594012413289521\n",
      "========================\n",
      "\n",
      "村田製作所のコミュニティの特徴\n",
      "2:4:moduleの長さは311\n",
      "node数: 310\n",
      "抽出した取引の数: 482\n",
      "取引データの中で重複しているデータの数は(True=重複): {False: 482}\n",
      "ノードの数= 310 \n",
      " リンクの数= 457\n",
      "平均最短経路長は 0.5171834220691095\n",
      "クラスタリング係数は 0.14216096200073913\n",
      "assortativityは -0.5432549591895537\n",
      "densityは 0.004770852907401608\n",
      "========================\n",
      "\n",
      "京都府を中心とする建築のコミュニティの特徴\n",
      "1:1:moduleの長さは83\n",
      "node数: 83\n",
      "抽出した取引の数: 93\n",
      "取引データの中で重複しているデータの数は(True=重複): {False: 93}\n",
      "ノードの数= 83 \n",
      " リンクの数= 93\n",
      "平均最短経路長は 0.09917719659124302\n",
      "クラスタリング係数は 0.0\n",
      "assortativityは -0.4217340746625514\n",
      "densityは 0.01366441375257126\n",
      "========================\n",
      "\n",
      "京都府を中心とする建築のコミュニティの特徴\n",
      "1:115:moduleの長さは60\n",
      "node数: 60\n",
      "抽出した取引の数: 76\n",
      "取引データの中で重複しているデータの数は(True=重複): {False: 76}\n",
      "ノードの数= 60 \n",
      " リンクの数= 75\n",
      "平均最短経路長は 0.673728813559322\n",
      "クラスタリング係数は 0.07922239368998628\n",
      "assortativityは -0.7477120228153298\n",
      "densityは 0.0211864406779661\n"
     ]
    }
   ],
   "source": [
    "print(\"========================\\n\")\n",
    "print(\"任天堂のコミュニティの特徴\")\n",
    "D_14_1 = get_graph(\"14:1:\")\n",
    "culclulate_graph_feature(D_14_1)\n",
    "\n",
    "print(\"========================\\n\")\n",
    "print(\"日本電産のコミュニティの特徴\")\n",
    "D_2_18 = get_graph(\"2:18:\")\n",
    "culclulate_graph_feature(D_2_18)\n",
    "\n",
    "\n",
    "print(\"========================\\n\")\n",
    "print(\"西陣織のコミュニティの特徴\")\n",
    "D_4_1 = get_graph(\"4:1:\")\n",
    "culclulate_graph_feature(D_4_1)\n",
    "\n",
    "\n",
    "print(\"========================\\n\")\n",
    "print(\"京友禅のコミュニティの特徴\")\n",
    "D_4_6 = get_graph(\"4:6:\")\n",
    "culclulate_graph_feature(D_4_6)\n",
    "\n",
    "\n",
    "print(\"========================\\n\")\n",
    "print(\"京人形のコミュニティの特徴\")\n",
    "D_4_25 = get_graph(\"4:25:\")\n",
    "culclulate_graph_feature(D_4_25)\n",
    "\n",
    "print(\"========================\\n\")\n",
    "print(\"堀場製作所のコミュニティの特徴\")\n",
    "D_2_9 = get_graph(\"2:9:\")\n",
    "culclulate_graph_feature(D_2_9)\n",
    "\n",
    "print(\"========================\\n\")\n",
    "print(\"村田製作所のコミュニティの特徴\")\n",
    "D_2_4 = get_graph(\"2:4:\")\n",
    "culclulate_graph_feature(D_2_4)\n",
    "\n",
    "print(\"========================\\n\")\n",
    "print(\"京都府を中心とする建築のコミュニティの特徴\")\n",
    "D_1_1 = get_graph(\"1:1:\")\n",
    "culclulate_graph_feature(D_1_1)\n",
    "\n",
    "print(\"========================\\n\")\n",
    "print(\"京都府を中心とする建築のコミュニティの特徴\")\n",
    "D_1_115 = get_graph(\"1:115:\")\n",
    "culclulate_graph_feature(D_1_115)"
   ]
  },
  {
   "cell_type": "code",
   "execution_count": 19,
   "metadata": {
    "scrolled": true
   },
   "outputs": [
    {
     "name": "stdout",
     "output_type": "stream",
     "text": [
      "SCCの大きさは 2\n",
      "INの大きさは 7\n",
      "OUTの大きさは 46\n",
      "TUBEの大きさは 31\n",
      "IN_TENDRILSの大きさは 14\n",
      "OUT_TENDRILSの大きさは 63\n",
      "OTHERの大きさは 11\n",
      "SCCの大きさは 33\n",
      "INの大きさは 20\n",
      "OUTの大きさは 41\n",
      "TUBEの大きさは 0\n",
      "IN_TENDRILSの大きさは 0\n",
      "OUT_TENDRILSの大きさは 0\n",
      "OTHERの大きさは 0\n",
      "SCCの大きさは 2\n",
      "INの大きさは 11\n",
      "OUTの大きさは 15\n",
      "TUBEの大きさは 19\n",
      "IN_TENDRILSの大きさは 20\n",
      "OUT_TENDRILSの大きさは 3\n",
      "OTHERの大きさは 1\n",
      "SCCの大きさは 5\n",
      "INの大きさは 111\n",
      "OUTの大きさは 16\n",
      "TUBEの大きさは 0\n",
      "IN_TENDRILSの大きさは 0\n",
      "OUT_TENDRILSの大きさは 0\n",
      "OTHERの大きさは 0\n",
      "SCCの大きさは 25\n",
      "INの大きさは 135\n",
      "OUTの大きさは 52\n",
      "TUBEの大きさは 0\n",
      "IN_TENDRILSの大きさは 0\n",
      "OUT_TENDRILSの大きさは 0\n",
      "OTHERの大きさは 0\n",
      "SCCの大きさは 11\n",
      "INの大きさは 27\n",
      "OUTの大きさは 20\n",
      "TUBEの大きさは 0\n",
      "IN_TENDRILSの大きさは 1\n",
      "OUT_TENDRILSの大きさは 1\n",
      "OTHERの大きさは 0\n"
     ]
    }
   ],
   "source": [
    "scc4_1, inc4_1, outc4_1, tube4_1, in_tendril4_1, out_tendril4_1, other4_1 = bowtie_analysis(\n",
    "    D_4_1)\n",
    "scc4_6, inc4_6, outc4_6, tube4_6, in_tendril4_6, out_tendril4_6, other4_6 = bowtie_analysis(\n",
    "    D_4_6)\n",
    "scc4_25, inc4_25, outc4_25, tube4_25, in_tendril4_25, out_tendril4_25, other4_25 = bowtie_analysis(\n",
    "    D_4_25)\n",
    "scc2_18, inc2_18, outc2_18, tube2_18, in_tendril2_18, out_tendril2_18, other2_18 = bowtie_analysis(\n",
    "    D_2_18)\n",
    "scc14_1, inc14_1, outc14_1, tube14_1, in_tendril14_1, out_tendril14_1, other14_1 = bowtie_analysis(\n",
    "    D_14_1)\n",
    "scc1_115, inc1_115, outc1_115, tube1_115, in_tendril1_115, out_tendril1_115, other1_115 = bowtie_analysis(\n",
    "    D_1_115)"
   ]
  },
  {
   "cell_type": "code",
   "execution_count": 144,
   "metadata": {},
   "outputs": [],
   "source": [
    "bowtie_element = [\"SCC\", \"IN\", \"OUT\", \"IN_TE\", \"OUT_TE\", \"TUBE\", \"OTHER\"]\n",
    "w = [kscc, kinc, koutc, ktube, kin_tendril, kout_tendril, kother]\n",
    "industries = [\"Nishijin\", \"Yuzen\", \"Ningyo\", \"Game\", \"Machine\", \"Civil\"]\n",
    "p4_1 = [scc4_1, inc4_1, outc4_1, in_tendril4_1, out_tendril4_1, tube4_1, other4_1]\n",
    "p4_6= [scc4_6, inc4_6, outc4_6, tube4_6, in_tendril4_6, out_tendril4_6, other4_6]\n",
    "p4_25 = [scc4_25, inc4_25, outc4_25, tube4_25, in_tendril4_25, out_tendril4_25, other4_25]\n",
    "p14_1 = [scc14_1, inc14_1, outc14_1, tube14_1, in_tendril14_1, out_tendril14_1, other14_1]\n",
    "p2_18 = [scc2_18, inc2_18, outc2_18, tube2_18, in_tendril2_18, out_tendril2_18, other2_18]\n",
    "p1_115 = [scc1_115, inc1_115, outc1_115, tube1_115, in_tendril1_115, out_tendril1_115, other1_115]\n",
    "p = [p4_1, p4_6, p4_25, p14_1, p2_18, p1_115]"
   ]
  },
  {
   "cell_type": "code",
   "execution_count": 159,
   "metadata": {},
   "outputs": [
    {
     "name": "stdout",
     "output_type": "stream",
     "text": [
      "{870408356, 641125500}\n",
      "{640017410, 642149860, 580004651, 642114129, 641162545, 641089686, 570564220}\n",
      "{641164548, 641416458, 10168079, 641312784, 570585104, 641403410, 293138710, 291093531, 400706598, 291379516, 510056768, 291706436, 641126212, 291418953, 401146189, 641082959, 641299028, 642005850, 641366108, 570279780, 140404082, 641417845, 760036730, 16918142, 291121535, 642299781, 291005063, 575476362, 641080727, 641383835, 641085354, 870210734, 291074499, 12266949, 20016840, 641119178, 641119186, 570022614, 291337945, 641142234, 270256091, 470170603, 641430256, 60002034, 650038002, 294111735}\n",
      "{297894498, 270158626, 641194978, 641121962, 13729322, 642218250, 641372205, 642158509, 641142420, 641403640, 220129274, 292375484, 910075646, 402369343}\n",
      "{641413122, 641141254, 641299591, 642163723, 642375437, 641093519, 641097875, 641125526, 641115415, 641312792, 641149719, 641228058, 641371675, 641080735, 641186207, 641120290, 641089570, 641416873, 641353898, 641171757, 641169710, 641299761, 641115318, 641380410, 510060730, 641517882, 641149883, 641088957, 641418175, 642190917, 641224265, 641084617, 641472587, 641091788, 641430477, 641371217, 291265235, 641299796, 641313365, 641085141, 641091672, 641415001, 641126751, 641089376, 641124961, 641245670, 641126760, 641417322, 641084650, 641299052, 641174250, 641139438, 642182507, 641370610, 641117299, 620066547, 670096628, 641097077, 641382774, 641149433, 641093500, 641384190, 641170815}\n",
      "{642035202, 641097735, 641127944, 641092105, 641125534, 641413025, 641138466, 641115300, 641158181, 641150644, 641402678, 641158840, 641414072, 641418426, 641414714, 641173946, 642197059, 641119054, 641157967, 641414480, 641384017, 641177810, 641090900, 641199066, 641371489, 642005869, 641090030, 641091443, 641128819, 641299192, 641299834}\n",
      "{642331200, 293412642, 600005348, 675204046, 450118800, 291388817, 641404018, 642017778, 642382069, 641477244, 170246493}\n",
      "{870408356, 641125500}\n",
      "{640017410, 642149860, 580004651, 642114129, 641162545, 641089686, 570564220}\n",
      "{641164548, 641416458, 10168079, 641312784, 570585104, 641403410, 293138710, 291093531, 400706598, 291379516, 510056768, 291706436, 641126212, 291418953, 401146189, 641082959, 641299028, 642005850, 641366108, 570279780, 140404082, 641417845, 760036730, 16918142, 291121535, 642299781, 291005063, 575476362, 641080727, 641383835, 641085354, 870210734, 291074499, 12266949, 20016840, 641119178, 641119186, 570022614, 291337945, 641142234, 270256091, 470170603, 641430256, 60002034, 650038002, 294111735}\n",
      "{297894498, 270158626, 641194978, 641121962, 13729322, 642218250, 641372205, 642158509, 641142420, 641403640, 220129274, 292375484, 910075646, 402369343}\n",
      "{641413122, 641141254, 641299591, 642163723, 642375437, 641093519, 641097875, 641125526, 641115415, 641312792, 641149719, 641228058, 641371675, 641080735, 641186207, 641120290, 641089570, 641416873, 641353898, 641171757, 641169710, 641299761, 641115318, 641380410, 510060730, 641517882, 641149883, 641088957, 641418175, 642190917, 641224265, 641084617, 641472587, 641091788, 641430477, 641371217, 291265235, 641299796, 641313365, 641085141, 641091672, 641415001, 641126751, 641089376, 641124961, 641245670, 641126760, 641417322, 641084650, 641299052, 641174250, 641139438, 642182507, 641370610, 641117299, 620066547, 670096628, 641097077, 641382774, 641149433, 641093500, 641384190, 641170815}\n",
      "{642035202, 641097735, 641127944, 641092105, 641125534, 641413025, 641138466, 641115300, 641158181, 641150644, 641402678, 641158840, 641414072, 641418426, 641414714, 641173946, 642197059, 641119054, 641157967, 641414480, 641384017, 641177810, 641090900, 641199066, 641371489, 642005869, 641090030, 641091443, 641128819, 641299192, 641299834}\n",
      "{642331200, 293412642, 600005348, 675204046, 450118800, 291388817, 641404018, 642017778, 642382069, 641477244, 170246493}\n",
      "{870408356, 641125500}\n",
      "{640017410, 642149860, 580004651, 642114129, 641162545, 641089686, 570564220}\n",
      "{641164548, 641416458, 10168079, 641312784, 570585104, 641403410, 293138710, 291093531, 400706598, 291379516, 510056768, 291706436, 641126212, 291418953, 401146189, 641082959, 641299028, 642005850, 641366108, 570279780, 140404082, 641417845, 760036730, 16918142, 291121535, 642299781, 291005063, 575476362, 641080727, 641383835, 641085354, 870210734, 291074499, 12266949, 20016840, 641119178, 641119186, 570022614, 291337945, 641142234, 270256091, 470170603, 641430256, 60002034, 650038002, 294111735}\n",
      "{297894498, 270158626, 641194978, 641121962, 13729322, 642218250, 641372205, 642158509, 641142420, 641403640, 220129274, 292375484, 910075646, 402369343}\n",
      "{641413122, 641141254, 641299591, 642163723, 642375437, 641093519, 641097875, 641125526, 641115415, 641312792, 641149719, 641228058, 641371675, 641080735, 641186207, 641120290, 641089570, 641416873, 641353898, 641171757, 641169710, 641299761, 641115318, 641380410, 510060730, 641517882, 641149883, 641088957, 641418175, 642190917, 641224265, 641084617, 641472587, 641091788, 641430477, 641371217, 291265235, 641299796, 641313365, 641085141, 641091672, 641415001, 641126751, 641089376, 641124961, 641245670, 641126760, 641417322, 641084650, 641299052, 641174250, 641139438, 642182507, 641370610, 641117299, 620066547, 670096628, 641097077, 641382774, 641149433, 641093500, 641384190, 641170815}\n",
      "{642035202, 641097735, 641127944, 641092105, 641125534, 641413025, 641138466, 641115300, 641158181, 641150644, 641402678, 641158840, 641414072, 641418426, 641414714, 641173946, 642197059, 641119054, 641157967, 641414480, 641384017, 641177810, 641090900, 641199066, 641371489, 642005869, 641090030, 641091443, 641128819, 641299192, 641299834}\n",
      "{642331200, 293412642, 600005348, 675204046, 450118800, 291388817, 641404018, 642017778, 642382069, 641477244, 170246493}\n",
      "{870408356, 641125500}\n",
      "{640017410, 642149860, 580004651, 642114129, 641162545, 641089686, 570564220}\n",
      "{641164548, 641416458, 10168079, 641312784, 570585104, 641403410, 293138710, 291093531, 400706598, 291379516, 510056768, 291706436, 641126212, 291418953, 401146189, 641082959, 641299028, 642005850, 641366108, 570279780, 140404082, 641417845, 760036730, 16918142, 291121535, 642299781, 291005063, 575476362, 641080727, 641383835, 641085354, 870210734, 291074499, 12266949, 20016840, 641119178, 641119186, 570022614, 291337945, 641142234, 270256091, 470170603, 641430256, 60002034, 650038002, 294111735}\n",
      "{297894498, 270158626, 641194978, 641121962, 13729322, 642218250, 641372205, 642158509, 641142420, 641403640, 220129274, 292375484, 910075646, 402369343}\n",
      "{641413122, 641141254, 641299591, 642163723, 642375437, 641093519, 641097875, 641125526, 641115415, 641312792, 641149719, 641228058, 641371675, 641080735, 641186207, 641120290, 641089570, 641416873, 641353898, 641171757, 641169710, 641299761, 641115318, 641380410, 510060730, 641517882, 641149883, 641088957, 641418175, 642190917, 641224265, 641084617, 641472587, 641091788, 641430477, 641371217, 291265235, 641299796, 641313365, 641085141, 641091672, 641415001, 641126751, 641089376, 641124961, 641245670, 641126760, 641417322, 641084650, 641299052, 641174250, 641139438, 642182507, 641370610, 641117299, 620066547, 670096628, 641097077, 641382774, 641149433, 641093500, 641384190, 641170815}\n",
      "{642035202, 641097735, 641127944, 641092105, 641125534, 641413025, 641138466, 641115300, 641158181, 641150644, 641402678, 641158840, 641414072, 641418426, 641414714, 641173946, 642197059, 641119054, 641157967, 641414480, 641384017, 641177810, 641090900, 641199066, 641371489, 642005869, 641090030, 641091443, 641128819, 641299192, 641299834}\n",
      "{642331200, 293412642, 600005348, 675204046, 450118800, 291388817, 641404018, 642017778, 642382069, 641477244, 170246493}\n",
      "{870408356, 641125500}\n",
      "{640017410, 642149860, 580004651, 642114129, 641162545, 641089686, 570564220}\n",
      "{641164548, 641416458, 10168079, 641312784, 570585104, 641403410, 293138710, 291093531, 400706598, 291379516, 510056768, 291706436, 641126212, 291418953, 401146189, 641082959, 641299028, 642005850, 641366108, 570279780, 140404082, 641417845, 760036730, 16918142, 291121535, 642299781, 291005063, 575476362, 641080727, 641383835, 641085354, 870210734, 291074499, 12266949, 20016840, 641119178, 641119186, 570022614, 291337945, 641142234, 270256091, 470170603, 641430256, 60002034, 650038002, 294111735}\n",
      "{297894498, 270158626, 641194978, 641121962, 13729322, 642218250, 641372205, 642158509, 641142420, 641403640, 220129274, 292375484, 910075646, 402369343}\n",
      "{641413122, 641141254, 641299591, 642163723, 642375437, 641093519, 641097875, 641125526, 641115415, 641312792, 641149719, 641228058, 641371675, 641080735, 641186207, 641120290, 641089570, 641416873, 641353898, 641171757, 641169710, 641299761, 641115318, 641380410, 510060730, 641517882, 641149883, 641088957, 641418175, 642190917, 641224265, 641084617, 641472587, 641091788, 641430477, 641371217, 291265235, 641299796, 641313365, 641085141, 641091672, 641415001, 641126751, 641089376, 641124961, 641245670, 641126760, 641417322, 641084650, 641299052, 641174250, 641139438, 642182507, 641370610, 641117299, 620066547, 670096628, 641097077, 641382774, 641149433, 641093500, 641384190, 641170815}\n",
      "{642035202, 641097735, 641127944, 641092105, 641125534, 641413025, 641138466, 641115300, 641158181, 641150644, 641402678, 641158840, 641414072, 641418426, 641414714, 641173946, 642197059, 641119054, 641157967, 641414480, 641384017, 641177810, 641090900, 641199066, 641371489, 642005869, 641090030, 641091443, 641128819, 641299192, 641299834}\n",
      "{642331200, 293412642, 600005348, 675204046, 450118800, 291388817, 641404018, 642017778, 642382069, 641477244, 170246493}\n",
      "{870408356, 641125500}\n",
      "{640017410, 642149860, 580004651, 642114129, 641162545, 641089686, 570564220}\n",
      "{641164548, 641416458, 10168079, 641312784, 570585104, 641403410, 293138710, 291093531, 400706598, 291379516, 510056768, 291706436, 641126212, 291418953, 401146189, 641082959, 641299028, 642005850, 641366108, 570279780, 140404082, 641417845, 760036730, 16918142, 291121535, 642299781, 291005063, 575476362, 641080727, 641383835, 641085354, 870210734, 291074499, 12266949, 20016840, 641119178, 641119186, 570022614, 291337945, 641142234, 270256091, 470170603, 641430256, 60002034, 650038002, 294111735}\n",
      "{297894498, 270158626, 641194978, 641121962, 13729322, 642218250, 641372205, 642158509, 641142420, 641403640, 220129274, 292375484, 910075646, 402369343}\n",
      "{641413122, 641141254, 641299591, 642163723, 642375437, 641093519, 641097875, 641125526, 641115415, 641312792, 641149719, 641228058, 641371675, 641080735, 641186207, 641120290, 641089570, 641416873, 641353898, 641171757, 641169710, 641299761, 641115318, 641380410, 510060730, 641517882, 641149883, 641088957, 641418175, 642190917, 641224265, 641084617, 641472587, 641091788, 641430477, 641371217, 291265235, 641299796, 641313365, 641085141, 641091672, 641415001, 641126751, 641089376, 641124961, 641245670, 641126760, 641417322, 641084650, 641299052, 641174250, 641139438, 642182507, 641370610, 641117299, 620066547, 670096628, 641097077, 641382774, 641149433, 641093500, 641384190, 641170815}\n",
      "{642035202, 641097735, 641127944, 641092105, 641125534, 641413025, 641138466, 641115300, 641158181, 641150644, 641402678, 641158840, 641414072, 641418426, 641414714, 641173946, 642197059, 641119054, 641157967, 641414480, 641384017, 641177810, 641090900, 641199066, 641371489, 642005869, 641090030, 641091443, 641128819, 641299192, 641299834}\n",
      "{642331200, 293412642, 600005348, 675204046, 450118800, 291388817, 641404018, 642017778, 642382069, 641477244, 170246493}\n",
      "{870408356, 641125500}\n",
      "{640017410, 642149860, 580004651, 642114129, 641162545, 641089686, 570564220}\n",
      "{641164548, 641416458, 10168079, 641312784, 570585104, 641403410, 293138710, 291093531, 400706598, 291379516, 510056768, 291706436, 641126212, 291418953, 401146189, 641082959, 641299028, 642005850, 641366108, 570279780, 140404082, 641417845, 760036730, 16918142, 291121535, 642299781, 291005063, 575476362, 641080727, 641383835, 641085354, 870210734, 291074499, 12266949, 20016840, 641119178, 641119186, 570022614, 291337945, 641142234, 270256091, 470170603, 641430256, 60002034, 650038002, 294111735}\n",
      "{297894498, 270158626, 641194978, 641121962, 13729322, 642218250, 641372205, 642158509, 641142420, 641403640, 220129274, 292375484, 910075646, 402369343}\n",
      "{641413122, 641141254, 641299591, 642163723, 642375437, 641093519, 641097875, 641125526, 641115415, 641312792, 641149719, 641228058, 641371675, 641080735, 641186207, 641120290, 641089570, 641416873, 641353898, 641171757, 641169710, 641299761, 641115318, 641380410, 510060730, 641517882, 641149883, 641088957, 641418175, 642190917, 641224265, 641084617, 641472587, 641091788, 641430477, 641371217, 291265235, 641299796, 641313365, 641085141, 641091672, 641415001, 641126751, 641089376, 641124961, 641245670, 641126760, 641417322, 641084650, 641299052, 641174250, 641139438, 642182507, 641370610, 641117299, 620066547, 670096628, 641097077, 641382774, 641149433, 641093500, 641384190, 641170815}\n",
      "{642035202, 641097735, 641127944, 641092105, 641125534, 641413025, 641138466, 641115300, 641158181, 641150644, 641402678, 641158840, 641414072, 641418426, 641414714, 641173946, 642197059, 641119054, 641157967, 641414480, 641384017, 641177810, 641090900, 641199066, 641371489, 642005869, 641090030, 641091443, 641128819, 641299192, 641299834}\n",
      "{642331200, 293412642, 600005348, 675204046, 450118800, 291388817, 641404018, 642017778, 642382069, 641477244, 170246493}\n"
     ]
    }
   ],
   "source": [
    "bowtie_df = pd.DataFrame(columns=bowtie_element, index=bowtie_element, dtype=int)\n",
    "\n",
    "for i, bf in enumerate(w):\n",
    "    for j, sf in enumerate(p4_1):\n",
    "        print(sf)\n",
    "        bowtie_df.at[bowtie_element[j], bowtie_element[i]] = len(w[i] & p4_1[j]) if len(w[i] & p4_1[j]) != 0 else 0"
   ]
  },
  {
   "cell_type": "code",
   "execution_count": 177,
   "metadata": {},
   "outputs": [],
   "source": [
    "def make_heatmap(df, title):\n",
    "    ax = plt.axes()\n",
    "    sns.heatmap(df,annot=True, cmap='Blues')\n",
    "\n",
    "    ax.set_title(\"The number of firms for {}\".format(title))\n",
    "    ax.set_xlabel(\"Whole Kyoto Network\")\n",
    "    ax.set_ylabel(\"Community Network\")"
   ]
  },
  {
   "cell_type": "code",
   "execution_count": 176,
   "metadata": {
    "scrolled": false
   },
   "outputs": [
    {
     "data": {
      "text/plain": [
       "Text(32.09375, 0.5, 'Community Network')"
      ]
     },
     "execution_count": 176,
     "metadata": {},
     "output_type": "execute_result"
    },
    {
     "data": {
      "image/png": "[encoded data removed]",
      "text/plain": [
       "<Figure size 432x288 with 2 Axes>"
      ]
     },
     "metadata": {
      "needs_background": "light"
     },
     "output_type": "display_data"
    }
   ],
   "source": [
    "ax = plt.axes()\n",
    "sns.heatmap(bowtie_df4_1,annot=True, cmap='Blues')\n",
    "\n",
    "ax.set_title(\"The number of firms for Nishijin Fabrick\")\n",
    "ax.set_xlabel(\"Whole Kyoto Network\")\n",
    "ax.set_ylabel(\"Community Network\")"
   ]
  },
  {
   "cell_type": "code",
   "execution_count": 178,
   "metadata": {},
   "outputs": [
    {
     "data": {
      "image/png": "[encoded data removed]",
      "text/plain": [
       "<Figure size 432x288 with 2 Axes>"
      ]
     },
     "metadata": {
      "needs_background": "light"
     },
     "output_type": "display_data"
    }
   ],
   "source": [
    "make_heatmap(bowtie_df4_1, \"Nishijin fabrick\")"
   ]
  },
  {
   "cell_type": "code",
   "execution_count": 179,
   "metadata": {},
   "outputs": [
    {
     "data": {
      "image/png": "[encoded data removed]",
      "text/plain": [
       "<Figure size 432x288 with 2 Axes>"
      ]
     },
     "metadata": {
      "needs_background": "light"
     },
     "output_type": "display_data"
    }
   ],
   "source": [
    "make_heatmap(bowtie_df4_6, \"Kyoto yuzen\")"
   ]
  },
  {
   "cell_type": "code",
   "execution_count": 180,
   "metadata": {},
   "outputs": [
    {
     "data": {
      "image/png": "[encoded data removed]",
      "text/plain": [
       "<Figure size 432x288 with 2 Axes>"
      ]
     },
     "metadata": {
      "needs_background": "light"
     },
     "output_type": "display_data"
    }
   ],
   "source": [
    "make_heatmap(bowtie_df4_25, \"Kyoto ningyo\")"
   ]
  },
  {
   "cell_type": "code",
   "execution_count": 181,
   "metadata": {},
   "outputs": [
    {
     "data": {
      "image/png": "[encoded data removed]",
      "text/plain": [
       "<Figure size 432x288 with 2 Axes>"
      ]
     },
     "metadata": {
      "needs_background": "light"
     },
     "output_type": "display_data"
    }
   ],
   "source": [
    "make_heatmap(bowtie_df14_1, \"Consumer game\")"
   ]
  },
  {
   "cell_type": "code",
   "execution_count": 182,
   "metadata": {},
   "outputs": [
    {
     "data": {
      "image/png": "[encoded data removed]",
      "text/plain": [
       "<Figure size 432x288 with 2 Axes>"
      ]
     },
     "metadata": {
      "needs_background": "light"
     },
     "output_type": "display_data"
    }
   ],
   "source": [
    "make_heatmap(bowtie_df2_18, \"electric machinery\")"
   ]
  },
  {
   "cell_type": "code",
   "execution_count": 183,
   "metadata": {},
   "outputs": [
    {
     "data": {
      "image/png": "[encoded data removed]",
      "text/plain": [
       "<Figure size 432x288 with 2 Axes>"
      ]
     },
     "metadata": {
      "needs_background": "light"
     },
     "output_type": "display_data"
    }
   ],
   "source": [
    "make_heatmap(bowtie_df1_115, \"Civil engineering\")"
   ]
  },
  {
   "cell_type": "code",
   "execution_count": 174,
   "metadata": {},
   "outputs": [],
   "source": [
    "bowtie_df4_1 = pd.DataFrame(columns=bowtie_element, index=bowtie_element, dtype=int)\n",
    "bowtie_df4_6 = pd.DataFrame(columns=bowtie_element, index=bowtie_element, dtype=int)\n",
    "bowtie_df4_25 = pd.DataFrame(columns=bowtie_element, index=bowtie_element, dtype=int)\n",
    "bowtie_df14_1 = pd.DataFrame(columns=bowtie_element, index=bowtie_element, dtype=int)\n",
    "bowtie_df2_18 = pd.DataFrame(columns=bowtie_element, index=bowtie_element, dtype=int)\n",
    "bowtie_df1_115 = pd.DataFrame(columns=bowtie_element, index=bowtie_element, dtype=int)\n",
    "\n",
    "bundle_df = [bowtie_df4_1, bowtie_df4_6,bowtie_df4_25, bowtie_df14_1, bowtie_df2_18 ,bowtie_df1_115]\n",
    "\n",
    "for index, bdf in enumerate(bundle_df):\n",
    "    for i, bf in enumerate(w):\n",
    "            for j, e in enumerate(p[index]):\n",
    "                bdf.at[bowtie_element[j], bowtie_element[i]] = len(w[i] & p[index][j]) if len(w[i] & p[index][j]) != 0 else 0"
   ]
  },
  {
   "cell_type": "code",
   "execution_count": 173,
   "metadata": {},
   "outputs": [
    {
     "data": {
      "text/html": [
       "<div>\n",
       "<style scoped>\n",
       "    .dataframe tbody tr th:only-of-type {\n",
       "        vertical-align: middle;\n",
       "    }\n",
       "\n",
       "    .dataframe tbody tr th {\n",
       "        vertical-align: top;\n",
       "    }\n",
       "\n",
       "    .dataframe thead th {\n",
       "        text-align: right;\n",
       "    }\n",
       "</style>\n",
       "<table border=\"1\" class=\"dataframe\">\n",
       "  <thead>\n",
       "    <tr style=\"text-align: right;\">\n",
       "      <th></th>\n",
       "      <th>SCC</th>\n",
       "      <th>IN</th>\n",
       "      <th>OUT</th>\n",
       "      <th>IN_TE</th>\n",
       "      <th>OUT_TE</th>\n",
       "      <th>TUBE</th>\n",
       "      <th>OTHER</th>\n",
       "    </tr>\n",
       "  </thead>\n",
       "  <tbody>\n",
       "    <tr>\n",
       "      <th>SCC</th>\n",
       "      <td>0.0</td>\n",
       "      <td>0.0</td>\n",
       "      <td>2.0</td>\n",
       "      <td>0.0</td>\n",
       "      <td>0.0</td>\n",
       "      <td>0.0</td>\n",
       "      <td>0.0</td>\n",
       "    </tr>\n",
       "    <tr>\n",
       "      <th>IN</th>\n",
       "      <td>6.0</td>\n",
       "      <td>4.0</td>\n",
       "      <td>1.0</td>\n",
       "      <td>0.0</td>\n",
       "      <td>0.0</td>\n",
       "      <td>0.0</td>\n",
       "      <td>0.0</td>\n",
       "    </tr>\n",
       "    <tr>\n",
       "      <th>OUT</th>\n",
       "      <td>0.0</td>\n",
       "      <td>0.0</td>\n",
       "      <td>15.0</td>\n",
       "      <td>0.0</td>\n",
       "      <td>0.0</td>\n",
       "      <td>0.0</td>\n",
       "      <td>0.0</td>\n",
       "    </tr>\n",
       "    <tr>\n",
       "      <th>IN_TE</th>\n",
       "      <td>0.0</td>\n",
       "      <td>0.0</td>\n",
       "      <td>19.0</td>\n",
       "      <td>0.0</td>\n",
       "      <td>0.0</td>\n",
       "      <td>0.0</td>\n",
       "      <td>0.0</td>\n",
       "    </tr>\n",
       "    <tr>\n",
       "      <th>OUT_TE</th>\n",
       "      <td>0.0</td>\n",
       "      <td>0.0</td>\n",
       "      <td>20.0</td>\n",
       "      <td>0.0</td>\n",
       "      <td>0.0</td>\n",
       "      <td>0.0</td>\n",
       "      <td>0.0</td>\n",
       "    </tr>\n",
       "    <tr>\n",
       "      <th>TUBE</th>\n",
       "      <td>0.0</td>\n",
       "      <td>0.0</td>\n",
       "      <td>1.0</td>\n",
       "      <td>0.0</td>\n",
       "      <td>0.0</td>\n",
       "      <td>2.0</td>\n",
       "      <td>0.0</td>\n",
       "    </tr>\n",
       "    <tr>\n",
       "      <th>OTHER</th>\n",
       "      <td>0.0</td>\n",
       "      <td>0.0</td>\n",
       "      <td>0.0</td>\n",
       "      <td>0.0</td>\n",
       "      <td>0.0</td>\n",
       "      <td>1.0</td>\n",
       "      <td>0.0</td>\n",
       "    </tr>\n",
       "  </tbody>\n",
       "</table>\n",
       "</div>"
      ],
      "text/plain": [
       "        SCC   IN   OUT  IN_TE  OUT_TE  TUBE  OTHER\n",
       "SCC     0.0  0.0   2.0    0.0     0.0   0.0    0.0\n",
       "IN      6.0  4.0   1.0    0.0     0.0   0.0    0.0\n",
       "OUT     0.0  0.0  15.0    0.0     0.0   0.0    0.0\n",
       "IN_TE   0.0  0.0  19.0    0.0     0.0   0.0    0.0\n",
       "OUT_TE  0.0  0.0  20.0    0.0     0.0   0.0    0.0\n",
       "TUBE    0.0  0.0   1.0    0.0     0.0   2.0    0.0\n",
       "OTHER   0.0  0.0   0.0    0.0     0.0   1.0    0.0"
      ]
     },
     "execution_count": 173,
     "metadata": {},
     "output_type": "execute_result"
    }
   ],
   "source": [
    "bowtie_df4_25"
   ]
  },
  {
   "cell_type": "code",
   "execution_count": 152,
   "metadata": {},
   "outputs": [
    {
     "data": {
      "text/plain": [
       "Text(32.09375, 0.5, 'Community Network')"
      ]
     },
     "execution_count": 152,
     "metadata": {},
     "output_type": "execute_result"
    },
    {
     "data": {
      "image/png": "[encoded data removed]",
      "text/plain": [
       "<Figure size 432x288 with 2 Axes>"
      ]
     },
     "metadata": {
      "needs_background": "light"
     },
     "output_type": "display_data"
    }
   ],
   "source": [
    "ax = plt.axes()\n",
    "sns.heatmap(bowtie_df4_1,annot=True, cmap='Blues')\n",
    "\n",
    "ax.set_title(\"The number of firms for Nishijin Fabrick\")\n",
    "ax.set_xlabel(\"Whole Kyoto Network\")\n",
    "ax.set_ylabel(\"Community Network\")"
   ]
  },
  {
   "cell_type": "code",
   "execution_count": 70,
   "metadata": {},
   "outputs": [],
   "source": [
    "for i, bf in enumerate(w):\n",
    "    for j, sf in enumerate(p):\n",
    "        firms = w[i] & p[j]\n",
    "        np_array = np.empty((0, 3))\n",
    "        for index, f in enumerate(firms):\n",
    "            firminfo = find_company_in_all(f)\n",
    "            sales = int(firminfo[\"前期決算＿売上高（千円）\"].values[0].replace(\n",
    "                \" \", \"\")) if firminfo[\"前期決算＿売上高（千円）\"].values[0].replace(\" \", \"\") != '' else np.nan\n",
    "            profit = int(firminfo[\"前期決算＿利益金（千円）\"].values[0].replace(\n",
    "                \" \", \"\")) if firminfo[\"前期決算＿利益金（千円）\"].values[0].replace(\" \", \"\") != '' else np.nan\n",
    "            employee = int(firminfo[\"従業員数\"].values[0].replace(\n",
    "                \" \", \"\")) if firminfo[\"従業員数\"].values[0].replace(\" \", \"\") != '' else np.nan\n",
    "            np_array = np.append(np_array, np.array([[sales, profit, employee]]), axis=0)\n",
    "\n",
    "        # print(np_array[~np.isnan(np_array).any(axis=1),:])\n",
    "        bowtie_df.at[bowtie_element[j], bowtie_element[i]] = len(\n",
    "            np_array[~np.isnan(np_array).any(axis=1),:])\n",
    "        # bowtie_df.at[bowtie_element[j], bowtie_element[i]] = len(\n",
    "        #     np_array[~np.isnan(np_array[:,1]),:])"
   ]
  },
  {
   "cell_type": "code",
   "execution_count": 79,
   "metadata": {},
   "outputs": [],
   "source": [
    "df = pd.DataFrame(columns=bowtie_element, index=bowtie_element)\n",
    "\n",
    "for i, bf in enumerate(w):\n",
    "    for j, sf in enumerate(p):\n",
    "        firms = w[i] & p[j]\n",
    "        np_array = np.empty((0, 3))\n",
    "        previous_profit_count = 0\n",
    "        current_profit_count = 0\n",
    "        both_profit_count = 0\n",
    "        for index, f in enumerate(firms):\n",
    "            firminfo = find_company_in_all(f)\n",
    "            # 必要な数値は前期売り上げがある。当期売り上げがある。前当期ともにある\n",
    "            if firminfo[\"前期決算＿利益金（千円）\"].values[0].replace(\" \", \"\") != '' and  firminfo[\"当期決算＿利益金（千円）\"].values[0].replace(\" \", \"\") != '':\n",
    "                both_profit_count += 1\n",
    "            elif firminfo[\"前期決算＿利益金（千円）\"].values[0].replace(\" \", \"\") != '':\n",
    "                previous_profit_count += 1\n",
    "            elif firminfo[\"当期決算＿利益金（千円）\"].values[0].replace(\" \", \"\") != '':\n",
    "                 current_profit_count += 1\n",
    "            sumprofit = both_profit_count + previous_profit_count + current_profit_count\n",
    "            \n",
    "            df.at[bowtie_element[j], bowtie_element[i]] = \"企業数{}, 両方{}, 前期だけ{}, 当期だけ{}, 利益データの存在する割合は{}%\".format(len(w[i] & p[j]), both_profit_count, previous_profit_count,current_profit_count, (sumprofit / len(w[i] & p[j]) * 100)) if len(w[i] & p[j]) != 0 else \"fuck\""
   ]
  },
  {
   "cell_type": "code",
   "execution_count": 80,
   "metadata": {},
   "outputs": [
    {
     "data": {
      "text/html": [
       "<div>\n",
       "<style scoped>\n",
       "    .dataframe tbody tr th:only-of-type {\n",
       "        vertical-align: middle;\n",
       "    }\n",
       "\n",
       "    .dataframe tbody tr th {\n",
       "        vertical-align: top;\n",
       "    }\n",
       "\n",
       "    .dataframe thead th {\n",
       "        text-align: right;\n",
       "    }\n",
       "</style>\n",
       "<table border=\"1\" class=\"dataframe\">\n",
       "  <thead>\n",
       "    <tr style=\"text-align: right;\">\n",
       "      <th></th>\n",
       "      <th>SCC</th>\n",
       "      <th>IN</th>\n",
       "      <th>OUT</th>\n",
       "      <th>IN_TE</th>\n",
       "      <th>OUT_TE</th>\n",
       "      <th>TUBE</th>\n",
       "      <th>OTHER</th>\n",
       "    </tr>\n",
       "  </thead>\n",
       "  <tbody>\n",
       "    <tr>\n",
       "      <th>SCC</th>\n",
       "      <td>企業数2, 両方1, 前期だけ0, 当期だけ1, 利益の存在する割合は100.0%</td>\n",
       "      <td>NaN</td>\n",
       "      <td>NaN</td>\n",
       "      <td>NaN</td>\n",
       "      <td>NaN</td>\n",
       "      <td>NaN</td>\n",
       "      <td>NaN</td>\n",
       "    </tr>\n",
       "    <tr>\n",
       "      <th>IN</th>\n",
       "      <td>企業数4, 両方1, 前期だけ0, 当期だけ0, 利益の存在する割合は25.0%</td>\n",
       "      <td>企業数3, 両方1, 前期だけ0, 当期だけ0, 利益の存在する割合は33.33333333...</td>\n",
       "      <td>NaN</td>\n",
       "      <td>NaN</td>\n",
       "      <td>NaN</td>\n",
       "      <td>NaN</td>\n",
       "      <td>NaN</td>\n",
       "    </tr>\n",
       "    <tr>\n",
       "      <th>OUT</th>\n",
       "      <td>企業数10, 両方2, 前期だけ0, 当期だけ1, 利益の存在する割合は30.0%</td>\n",
       "      <td>NaN</td>\n",
       "      <td>企業数36, 両方14, 前期だけ2, 当期だけ3, 利益の存在する割合は52.777777...</td>\n",
       "      <td>NaN</td>\n",
       "      <td>NaN</td>\n",
       "      <td>NaN</td>\n",
       "      <td>NaN</td>\n",
       "    </tr>\n",
       "    <tr>\n",
       "      <th>IN_TE</th>\n",
       "      <td>企業数3, 両方0, 前期だけ0, 当期だけ1, 利益の存在する割合は33.33333333...</td>\n",
       "      <td>NaN</td>\n",
       "      <td>企業数11, 両方0, 前期だけ0, 当期だけ1, 利益の存在する割合は9.09090909...</td>\n",
       "      <td>NaN</td>\n",
       "      <td>NaN</td>\n",
       "      <td>NaN</td>\n",
       "      <td>NaN</td>\n",
       "    </tr>\n",
       "    <tr>\n",
       "      <th>OUT_TE</th>\n",
       "      <td>企業数45, 両方2, 前期だけ1, 当期だけ0, 利益の存在する割合は6.66666666...</td>\n",
       "      <td>企業数16, 両方3, 前期だけ0, 当期だけ0, 利益の存在する割合は18.75%</td>\n",
       "      <td>NaN</td>\n",
       "      <td>NaN</td>\n",
       "      <td>NaN</td>\n",
       "      <td>企業数2, 両方0, 前期だけ0, 当期だけ0, 利益の存在する割合は0.0%</td>\n",
       "      <td>NaN</td>\n",
       "    </tr>\n",
       "    <tr>\n",
       "      <th>TUBE</th>\n",
       "      <td>企業数30, 両方3, 前期だけ1, 当期だけ1, 利益の存在する割合は16.6666666...</td>\n",
       "      <td>NaN</td>\n",
       "      <td>企業数1, 両方0, 前期だけ0, 当期だけ0, 利益の存在する割合は0.0%</td>\n",
       "      <td>NaN</td>\n",
       "      <td>NaN</td>\n",
       "      <td>NaN</td>\n",
       "      <td>NaN</td>\n",
       "    </tr>\n",
       "    <tr>\n",
       "      <th>OTHER</th>\n",
       "      <td>企業数1, 両方0, 前期だけ0, 当期だけ1, 利益の存在する割合は100.0%</td>\n",
       "      <td>企業数3, 両方0, 前期だけ1, 当期だけ0, 利益の存在する割合は33.33333333...</td>\n",
       "      <td>企業数5, 両方2, 前期だけ0, 当期だけ0, 利益の存在する割合は40.0%</td>\n",
       "      <td>NaN</td>\n",
       "      <td>企業数2, 両方1, 前期だけ1, 当期だけ0, 利益の存在する割合は100.0%</td>\n",
       "      <td>NaN</td>\n",
       "      <td>NaN</td>\n",
       "    </tr>\n",
       "  </tbody>\n",
       "</table>\n",
       "</div>"
      ],
      "text/plain": [
       "                                                      SCC  \\\n",
       "SCC             企業数2, 両方1, 前期だけ0, 当期だけ1, 利益の存在する割合は100.0%   \n",
       "IN               企業数4, 両方1, 前期だけ0, 当期だけ0, 利益の存在する割合は25.0%   \n",
       "OUT             企業数10, 両方2, 前期だけ0, 当期だけ1, 利益の存在する割合は30.0%   \n",
       "IN_TE   企業数3, 両方0, 前期だけ0, 当期だけ1, 利益の存在する割合は33.33333333...   \n",
       "OUT_TE  企業数45, 両方2, 前期だけ1, 当期だけ0, 利益の存在する割合は6.66666666...   \n",
       "TUBE    企業数30, 両方3, 前期だけ1, 当期だけ1, 利益の存在する割合は16.6666666...   \n",
       "OTHER           企業数1, 両方0, 前期だけ0, 当期だけ1, 利益の存在する割合は100.0%   \n",
       "\n",
       "                                                       IN  \\\n",
       "SCC                                                   NaN   \n",
       "IN      企業数3, 両方1, 前期だけ0, 当期だけ0, 利益の存在する割合は33.33333333...   \n",
       "OUT                                                   NaN   \n",
       "IN_TE                                                 NaN   \n",
       "OUT_TE         企業数16, 両方3, 前期だけ0, 当期だけ0, 利益の存在する割合は18.75%   \n",
       "TUBE                                                  NaN   \n",
       "OTHER   企業数3, 両方0, 前期だけ1, 当期だけ0, 利益の存在する割合は33.33333333...   \n",
       "\n",
       "                                                      OUT IN_TE  \\\n",
       "SCC                                                   NaN   NaN   \n",
       "IN                                                    NaN   NaN   \n",
       "OUT     企業数36, 両方14, 前期だけ2, 当期だけ3, 利益の存在する割合は52.777777...   NaN   \n",
       "IN_TE   企業数11, 両方0, 前期だけ0, 当期だけ1, 利益の存在する割合は9.09090909...   NaN   \n",
       "OUT_TE                                                NaN   NaN   \n",
       "TUBE              企業数1, 両方0, 前期だけ0, 当期だけ0, 利益の存在する割合は0.0%   NaN   \n",
       "OTHER            企業数5, 両方2, 前期だけ0, 当期だけ0, 利益の存在する割合は40.0%   NaN   \n",
       "\n",
       "                                           OUT_TE  \\\n",
       "SCC                                           NaN   \n",
       "IN                                            NaN   \n",
       "OUT                                           NaN   \n",
       "IN_TE                                         NaN   \n",
       "OUT_TE                                        NaN   \n",
       "TUBE                                          NaN   \n",
       "OTHER   企業数2, 両方1, 前期だけ1, 当期だけ0, 利益の存在する割合は100.0%   \n",
       "\n",
       "                                           TUBE OTHER  \n",
       "SCC                                         NaN   NaN  \n",
       "IN                                          NaN   NaN  \n",
       "OUT                                         NaN   NaN  \n",
       "IN_TE                                       NaN   NaN  \n",
       "OUT_TE  企業数2, 両方0, 前期だけ0, 当期だけ0, 利益の存在する割合は0.0%   NaN  \n",
       "TUBE                                        NaN   NaN  \n",
       "OTHER                                       NaN   NaN  "
      ]
     },
     "metadata": {},
     "output_type": "display_data"
    }
   ],
   "source": [
    "display(df)"
   ]
  },
  {
   "cell_type": "code",
   "execution_count": 92,
   "metadata": {},
   "outputs": [],
   "source": [
    "profitabilityDf = pd.DataFrame(columns=bowtie_element, index=bowtie_element, dtype=int)\n",
    "productivityDf = pd.DataFrame(columns=bowtie_element, index=bowtie_element, dtype=int)\n",
    "\n",
    "for i, bf in enumerate(w):\n",
    "    for j, sf in enumerate(p):\n",
    "        firms = w[i] & p[j]\n",
    "        previous_data = np.empty((0, 3))\n",
    "        current_data = np.empty((0, 3))\n",
    "        for index, f in enumerate(firms):\n",
    "            firminfo = find_company_in_all(f)\n",
    "            previous_sales = int(firminfo[\"前期決算＿売上高（千円）\"].values[0].replace(\n",
    "                \" \", \"\")) if firminfo[\"前期決算＿売上高（千円）\"].values[0].replace(\" \", \"\") != '' else np.nan\n",
    "            previous_profit = int(firminfo[\"前期決算＿利益金（千円）\"].values[0].replace(\n",
    "                \" \", \"\")) if firminfo[\"前期決算＿利益金（千円）\"].values[0].replace(\" \", \"\") != '' else np.nan\n",
    "            current_sales = int(firminfo[\"当期決算＿売上高（千円）\"].values[0].replace(\n",
    "                \" \", \"\")) if firminfo[\"当期決算＿売上高（千円）\"].values[0].replace(\" \", \"\") != '' else np.nan\n",
    "            current_profit = int(firminfo[\"当期決算＿利益金（千円）\"].values[0].replace(\n",
    "                \" \", \"\")) if firminfo[\"当期決算＿利益金（千円）\"].values[0].replace(\" \", \"\") != '' else np.nan\n",
    "            employee = int(firminfo[\"従業員数\"].values[0].replace(\n",
    "                \" \", \"\")) if firminfo[\"従業員数\"].values[0].replace(\" \", \"\") != '' else np.nan\n",
    "            previous_data = np.append(previous_data, np.array(\n",
    "                [[previous_sales, previous_profit, employee]]), axis=0)\n",
    "            current_data = np.append(current_data, np.array(\n",
    "                [[current_sales, current_profit, employee]]), axis=0)\n",
    "\n",
    "        withProfit_previous = previous_data[~np.isnan(previous_data).any(axis=1),:]\n",
    "        withProfit_current = current_data[~np.isnan(\n",
    "            current_data).any(axis=1),: ]\n",
    "\n",
    "        withProfit = np.append(withProfit_previous, withProfit_current, axis=0)\n",
    "\n",
    "        if len(withProfit) == 0:\n",
    "            profitabilityDf.at[bowtie_element[j], bowtie_element[i]] = 0\n",
    "            productivityDf.at[bowtie_element[j], bowtie_element[i]] = 0\n",
    "        else:\n",
    "            profitRateSum = 0\n",
    "            profitabilitySum = 0\n",
    "            for info in withProfit:\n",
    "                profitRateSum += (info[1] / info[0] * 100)\n",
    "                profitabilitySum += (info[1] / info[2])\n",
    "\n",
    "            profitRate = (profitRateSum / len(withProfit)).round(2)\n",
    "            profitability = (profitabilitySum / len(withProfit)).round(2)\n",
    "\n",
    "            profitabilityDf.at[bowtie_element[j], bowtie_element[i]] = profitRate\n",
    "            productivityDf.at[bowtie_element[j], bowtie_element[i]] = profitability"
   ]
  },
  {
   "cell_type": "code",
   "execution_count": 93,
   "metadata": {},
   "outputs": [
    {
     "data": {
      "text/plain": [
       "Text(32.09375, 0.5, 'Community Network')"
      ]
     },
     "execution_count": 93,
     "metadata": {},
     "output_type": "execute_result"
    },
    {
     "data": {
      "image/png": "[encoded data removed]",
      "text/plain": [
       "<Figure size 432x288 with 2 Axes>"
      ]
     },
     "metadata": {
      "needs_background": "light"
     },
     "output_type": "display_data"
    }
   ],
   "source": [
    "ax = plt.axes()\n",
    "sns.heatmap(profitabilityDf,annot=True, cmap='Blues')\n",
    "\n",
    "ax.set_title(\"The Profitrate of firms for Nishijin Fabrick\")\n",
    "ax.set_xlabel(\"Whole Kyoto Network\")\n",
    "ax.set_ylabel(\"Community Network\")"
   ]
  },
  {
   "cell_type": "code",
   "execution_count": 94,
   "metadata": {},
   "outputs": [
    {
     "data": {
      "text/plain": [
       "Text(32.09375, 0.5, 'Community Network')"
      ]
     },
     "execution_count": 94,
     "metadata": {},
     "output_type": "execute_result"
    },
    {
     "data": {
      "image/png": "[encoded data removed]",
      "text/plain": [
       "<Figure size 432x288 with 2 Axes>"
      ]
     },
     "metadata": {
      "needs_background": "light"
     },
     "output_type": "display_data"
    }
   ],
   "source": [
    "ax = plt.axes()\n",
    "sns.heatmap(productivityDf,annot=True, cmap='Blues')\n",
    "\n",
    "ax.set_title(\"The productivity of firms for Nishijin Fabrick\")\n",
    "ax.set_xlabel(\"Whole Kyoto Network\")\n",
    "ax.set_ylabel(\"Community Network\")"
   ]
  },
  {
   "cell_type": "code",
   "execution_count": null,
   "metadata": {},
   "outputs": [],
   "source": []
  },
  {
   "cell_type": "code",
   "execution_count": null,
   "metadata": {},
   "outputs": [],
   "source": []
  }
 ],
 "metadata": {
  "kernelspec": {
   "display_name": "Python 3",
   "language": "python",
   "name": "python3"
  },
  "language_info": {
   "codemirror_mode": {
    "name": "ipython",
    "version": 3
   },
   "file_extension": ".py",
   "mimetype": "text/x-python",
   "name": "python",
   "nbconvert_exporter": "python",
   "pygments_lexer": "ipython3",
   "version": "3.7.3"
  }
 },
 "nbformat": 4,
 "nbformat_minor": 2
}
